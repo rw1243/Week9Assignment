{
 "cells": [
  {
   "cell_type": "code",
   "execution_count": 1,
   "metadata": {},
   "outputs": [
    {
     "name": "stdout",
     "output_type": "stream",
     "text": [
      "heads or tails? heads\n",
      "correct! you guessed heads and the coin landed on heads\n",
      "heads or tails? tails\n",
      "incorrect... you guessed tails and the coin landed on heads\n",
      "heads or tails? heads\n",
      "incorrect... you guessed heads and the coin landed on tails\n",
      "heads or tails? heads\n",
      "correct! you guessed heads and the coin landed on heads\n",
      "heads or tails? tails\n",
      "incorrect... you guessed tails and the coin landed on heads\n",
      "heads or tails? heads\n",
      "correct! you guessed heads and the coin landed on heads\n",
      "heads or tails? heads\n",
      "correct! you guessed heads and the coin landed on heads\n",
      "2 successful guesses in a row! It took you 7 guesses\n"
     ]
    }
   ],
   "source": [
    "import random\n",
    "\n",
    "# function to flip a coin\n",
    "def flip_coin():\n",
    "    # dictionary to map 1 and 0 to heads and tails\n",
    "    flip_dict = {1 : \"heads\",\n",
    "                 0 : \"tails\"}\n",
    "    \n",
    "    # flipping the coin\n",
    "    coin_toss = flip_dict[random.randint(0,1)]\n",
    "    \n",
    "    # returning the coin flip result\n",
    "    return coin_toss\n",
    "\n",
    "# function to guess the result of 1 coin flip\n",
    "def guess_coin_flip():\n",
    "    \n",
    "    # ask for the users guess\n",
    "    user_guess = input(\"heads or tails? \")\n",
    "    \n",
    "    # flip the coin\n",
    "    coin_flip = flip_coin()\n",
    "    \n",
    "    # if the users guess is correct\n",
    "    if user_guess == coin_flip:\n",
    "        print(f\"correct! you guessed {user_guess} and the coin landed on {coin_flip}\")\n",
    "        correct_guess = True\n",
    "    \n",
    "    # if the users guess is not correct\n",
    "    elif user_guess != coin_flip:\n",
    "        print(f\"incorrect... you guessed {user_guess} and the coin landed on {coin_flip}\")\n",
    "        correct_guess = False\n",
    "    \n",
    "    # return True of False based on the result\n",
    "    return correct_guess\n",
    "\n",
    "# function to attempt to guess 2 consecutive correct coin flips\n",
    "def guess_two_coin_flips():\n",
    "    \n",
    "    # counters for how many total guesses and how many consecutive successful guesses\n",
    "    guess_number = 0\n",
    "    successful_guesses = 0\n",
    "    \n",
    "    # while successful guesses is 0 or 1, guess and flip the coin\n",
    "    while successful_guesses < 2:\n",
    "    \n",
    "        result = guess_coin_flip()\n",
    "        \n",
    "        # if the guess matches the coin flip\n",
    "        if result == True:\n",
    "            guess_number += 1\n",
    "            successful_guesses += 1\n",
    "        \n",
    "        # if the guess does not match the coin flip\n",
    "        elif result == False:\n",
    "            guess_number += 1\n",
    "            successful_guesses = 0\n",
    "            \n",
    "    print(f\"2 successful guesses in a row! It took you {guess_number} guesses\")\n",
    "    \n",
    "guess_two_coin_flips()\n"
   ]
  },
  {
   "cell_type": "code",
   "execution_count": null,
   "metadata": {},
   "outputs": [],
   "source": []
  }
 ],
 "metadata": {
  "kernelspec": {
   "display_name": "Python 3",
   "language": "python",
   "name": "python3"
  },
  "language_info": {
   "codemirror_mode": {
    "name": "ipython",
    "version": 3
   },
   "file_extension": ".py",
   "mimetype": "text/x-python",
   "name": "python",
   "nbconvert_exporter": "python",
   "pygments_lexer": "ipython3",
   "version": "3.6.9"
  }
 },
 "nbformat": 4,
 "nbformat_minor": 4
}
